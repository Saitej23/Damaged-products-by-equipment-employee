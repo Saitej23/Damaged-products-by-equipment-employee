{
 "cells": [
  {
   "cell_type": "markdown",
   "id": "47db00cf",
   "metadata": {},
   "source": [
    "# Damaged products by Equipment, Employee"
   ]
  },
  {
   "cell_type": "markdown",
   "id": "079ebf88",
   "metadata": {},
   "source": [
    "## Problem Statement"
   ]
  },
  {
   "cell_type": "markdown",
   "id": "e57d1e68",
   "metadata": {},
   "source": [
    "Derive the complete insights and analysis reports for the products damaged by the employee and equipment. Also identify the total product quantities that are damaged. "
   ]
  },
  {
   "cell_type": "markdown",
   "id": "fbf14549",
   "metadata": {},
   "source": [
    "### Data Collection/Description"
   ]
  },
  {
   "cell_type": "markdown",
   "id": "c5ccf679",
   "metadata": {},
   "source": [
    "**Data:** The Dataset gives the information about damaged products by employee, equipment which is created with dummy rows by considering few sample rows from t_tran_log.\n",
    "\n",
    "**Data Dictionary:**\n",
    "- Dataset contains 9 columns/features\n",
    "- Dataset contains 460 records\n",
    "\n",
    "**Description:**\n",
    "- **transaction_log_id** - Unique identifier for each transaction.\n",
    "- **transaction_code** - Code indicating the type of transaction (151 for Staged Receipt (Rcpt)).\n",
    "- **transaction_name** - Name of the transaction type.\n",
    "- **warehouse_id** - Identifier for the warehouse where the transaction took place.\n",
    "- **employee_code** - Employee code involved in the transaction. \n",
    "- **sku_number** - Stock Keeping Unit number/Item number, unique for each product.\n",
    "- **transaction_quantity** - Quantity of the product involved in the transaction. \n",
    "- **end_location_id** - Equipment Id which is used for the particular transaction. \n",
    "- **reason_id** - Reason code for the type of Damage/Scrap (3 indicates, the product is damaged while Staged Receipt(Rcpt)).\n"
   ]
  },
  {
   "cell_type": "markdown",
   "id": "f021d027",
   "metadata": {},
   "source": [
    "### Importing required dependencies "
   ]
  },
  {
   "cell_type": "code",
   "execution_count": 2,
   "id": "218fec58",
   "metadata": {},
   "outputs": [],
   "source": [
    "import pandas as pd\n",
    "import matplotlib.pyplot as plt\n",
    "import seaborn as sns "
   ]
  },
  {
   "cell_type": "code",
   "execution_count": 3,
   "id": "1b2cdfee",
   "metadata": {},
   "outputs": [],
   "source": [
    "%matplotlib inline \n",
    "%reload_ext autoreload\n",
    "%autoreload 2"
   ]
  },
  {
   "cell_type": "markdown",
   "id": "5db9d67d",
   "metadata": {},
   "source": [
    "#### Loading Dataset"
   ]
  },
  {
   "cell_type": "code",
   "execution_count": 4,
   "id": "17e67622",
   "metadata": {},
   "outputs": [],
   "source": [
    "# Load the dataset\n",
    "file_path = r\"C:\\Users\\USER\\Desktop\\Damaged products by equipment,employee\\damage.xlsx\"\n",
    "df = pd.read_excel(file_path)"
   ]
  },
  {
   "cell_type": "code",
   "execution_count": 5,
   "id": "668e2aca",
   "metadata": {
    "scrolled": true
   },
   "outputs": [
    {
     "data": {
      "text/html": [
       "<div>\n",
       "<style scoped>\n",
       "    .dataframe tbody tr th:only-of-type {\n",
       "        vertical-align: middle;\n",
       "    }\n",
       "\n",
       "    .dataframe tbody tr th {\n",
       "        vertical-align: top;\n",
       "    }\n",
       "\n",
       "    .dataframe thead th {\n",
       "        text-align: right;\n",
       "    }\n",
       "</style>\n",
       "<table border=\"1\" class=\"dataframe\">\n",
       "  <thead>\n",
       "    <tr style=\"text-align: right;\">\n",
       "      <th></th>\n",
       "      <th>transaction_log_id</th>\n",
       "      <th>transaction_code</th>\n",
       "      <th>transaction_name</th>\n",
       "      <th>warehouse_id</th>\n",
       "      <th>employee_code</th>\n",
       "      <th>sku_number</th>\n",
       "      <th>transaction_quantity</th>\n",
       "      <th>end_location_id</th>\n",
       "      <th>reason_id</th>\n",
       "    </tr>\n",
       "  </thead>\n",
       "  <tbody>\n",
       "    <tr>\n",
       "      <th>0</th>\n",
       "      <td>7451</td>\n",
       "      <td>151</td>\n",
       "      <td>Staged Receipt (Rcpt)</td>\n",
       "      <td>2</td>\n",
       "      <td>CHANDRA</td>\n",
       "      <td>50000073</td>\n",
       "      <td>10</td>\n",
       "      <td>VNA01</td>\n",
       "      <td>3</td>\n",
       "    </tr>\n",
       "    <tr>\n",
       "      <th>1</th>\n",
       "      <td>7452</td>\n",
       "      <td>151</td>\n",
       "      <td>Staged Receipt (Rcpt)</td>\n",
       "      <td>3</td>\n",
       "      <td>MAXUSER3</td>\n",
       "      <td>50000073</td>\n",
       "      <td>19</td>\n",
       "      <td>DS06</td>\n",
       "      <td>3</td>\n",
       "    </tr>\n",
       "    <tr>\n",
       "      <th>2</th>\n",
       "      <td>7453</td>\n",
       "      <td>151</td>\n",
       "      <td>Staged Receipt (Rcpt)</td>\n",
       "      <td>3</td>\n",
       "      <td>CHANDRA</td>\n",
       "      <td>50065023</td>\n",
       "      <td>2</td>\n",
       "      <td>VNA01</td>\n",
       "      <td>3</td>\n",
       "    </tr>\n",
       "    <tr>\n",
       "      <th>3</th>\n",
       "      <td>7454</td>\n",
       "      <td>151</td>\n",
       "      <td>Staged Receipt (Rcpt)</td>\n",
       "      <td>1</td>\n",
       "      <td>MAXUSER5</td>\n",
       "      <td>50065023</td>\n",
       "      <td>10</td>\n",
       "      <td>VNA03</td>\n",
       "      <td>3</td>\n",
       "    </tr>\n",
       "    <tr>\n",
       "      <th>4</th>\n",
       "      <td>7455</td>\n",
       "      <td>151</td>\n",
       "      <td>Staged Receipt (Rcpt)</td>\n",
       "      <td>1</td>\n",
       "      <td>CHANDRA</td>\n",
       "      <td>50065023</td>\n",
       "      <td>2</td>\n",
       "      <td>DS04</td>\n",
       "      <td>3</td>\n",
       "    </tr>\n",
       "  </tbody>\n",
       "</table>\n",
       "</div>"
      ],
      "text/plain": [
       "   transaction_log_id  transaction_code       transaction_name  warehouse_id  \\\n",
       "0                7451               151  Staged Receipt (Rcpt)             2   \n",
       "1                7452               151  Staged Receipt (Rcpt)             3   \n",
       "2                7453               151  Staged Receipt (Rcpt)             3   \n",
       "3                7454               151  Staged Receipt (Rcpt)             1   \n",
       "4                7455               151  Staged Receipt (Rcpt)             1   \n",
       "\n",
       "  employee_code sku_number  transaction_quantity end_location_id  reason_id  \n",
       "0       CHANDRA   50000073                    10           VNA01          3  \n",
       "1      MAXUSER3   50000073                    19            DS06          3  \n",
       "2       CHANDRA   50065023                     2           VNA01          3  \n",
       "3      MAXUSER5   50065023                    10           VNA03          3  \n",
       "4       CHANDRA   50065023                     2            DS04          3  "
      ]
     },
     "execution_count": 5,
     "metadata": {},
     "output_type": "execute_result"
    }
   ],
   "source": [
    "df.head()"
   ]
  },
  {
   "cell_type": "markdown",
   "id": "658a7339",
   "metadata": {},
   "source": [
    "#### Data Analysis"
   ]
  },
  {
   "cell_type": "code",
   "execution_count": 6,
   "id": "49e40759",
   "metadata": {},
   "outputs": [
    {
     "data": {
      "text/plain": [
       "transaction_log_id      0\n",
       "transaction_code        0\n",
       "transaction_name        0\n",
       "warehouse_id            0\n",
       "employee_code           0\n",
       "sku_number              0\n",
       "transaction_quantity    0\n",
       "end_location_id         0\n",
       "reason_id               0\n",
       "dtype: int64"
      ]
     },
     "execution_count": 6,
     "metadata": {},
     "output_type": "execute_result"
    }
   ],
   "source": [
    "# Check for missing values\n",
    "df.isnull().sum()"
   ]
  },
  {
   "cell_type": "code",
   "execution_count": 7,
   "id": "0003d663",
   "metadata": {},
   "outputs": [
    {
     "data": {
      "text/plain": [
       "(460, 9)"
      ]
     },
     "execution_count": 7,
     "metadata": {},
     "output_type": "execute_result"
    }
   ],
   "source": [
    "df.shape"
   ]
  },
  {
   "cell_type": "code",
   "execution_count": 8,
   "id": "455fd54d",
   "metadata": {},
   "outputs": [
    {
     "name": "stdout",
     "output_type": "stream",
     "text": [
      "<class 'pandas.core.frame.DataFrame'>\n",
      "RangeIndex: 460 entries, 0 to 459\n",
      "Data columns (total 9 columns):\n",
      " #   Column                Non-Null Count  Dtype \n",
      "---  ------                --------------  ----- \n",
      " 0   transaction_log_id    460 non-null    int64 \n",
      " 1   transaction_code      460 non-null    int64 \n",
      " 2   transaction_name      460 non-null    object\n",
      " 3   warehouse_id          460 non-null    int64 \n",
      " 4   employee_code         460 non-null    object\n",
      " 5   sku_number            460 non-null    object\n",
      " 6   transaction_quantity  460 non-null    int64 \n",
      " 7   end_location_id       460 non-null    object\n",
      " 8   reason_id             460 non-null    int64 \n",
      "dtypes: int64(5), object(4)\n",
      "memory usage: 32.5+ KB\n"
     ]
    }
   ],
   "source": [
    "df.info()"
   ]
  },
  {
   "cell_type": "code",
   "execution_count": 9,
   "id": "70c06a33",
   "metadata": {},
   "outputs": [
    {
     "data": {
      "text/plain": [
       "transaction_log_id       int64\n",
       "transaction_code         int64\n",
       "transaction_name        object\n",
       "warehouse_id             int64\n",
       "employee_code           object\n",
       "sku_number              object\n",
       "transaction_quantity     int64\n",
       "end_location_id         object\n",
       "reason_id                int64\n",
       "dtype: object"
      ]
     },
     "execution_count": 9,
     "metadata": {},
     "output_type": "execute_result"
    }
   ],
   "source": [
    "df.dtypes"
   ]
  },
  {
   "cell_type": "code",
   "execution_count": 10,
   "id": "d16342fd",
   "metadata": {},
   "outputs": [],
   "source": [
    "# Filter the data for damaged products\n",
    "damaged_df = df[df['reason_id'] == 3]"
   ]
  },
  {
   "cell_type": "markdown",
   "id": "4d66c1f0",
   "metadata": {},
   "source": [
    "#### Most frequently damaged products and total quantity"
   ]
  },
  {
   "cell_type": "code",
   "execution_count": 11,
   "id": "3d0e78c9",
   "metadata": {},
   "outputs": [
    {
     "data": {
      "text/html": [
       "<div>\n",
       "<style scoped>\n",
       "    .dataframe tbody tr th:only-of-type {\n",
       "        vertical-align: middle;\n",
       "    }\n",
       "\n",
       "    .dataframe tbody tr th {\n",
       "        vertical-align: top;\n",
       "    }\n",
       "\n",
       "    .dataframe thead th {\n",
       "        text-align: right;\n",
       "    }\n",
       "</style>\n",
       "<table border=\"1\" class=\"dataframe\">\n",
       "  <thead>\n",
       "    <tr style=\"text-align: right;\">\n",
       "      <th></th>\n",
       "      <th>sku_number</th>\n",
       "      <th>transaction_quantity</th>\n",
       "    </tr>\n",
       "  </thead>\n",
       "  <tbody>\n",
       "    <tr>\n",
       "      <th>122</th>\n",
       "      <td>50149711</td>\n",
       "      <td>9511</td>\n",
       "    </tr>\n",
       "    <tr>\n",
       "      <th>78</th>\n",
       "      <td>50014523</td>\n",
       "      <td>8963</td>\n",
       "    </tr>\n",
       "    <tr>\n",
       "      <th>42</th>\n",
       "      <td>50000242</td>\n",
       "      <td>5734</td>\n",
       "    </tr>\n",
       "    <tr>\n",
       "      <th>28</th>\n",
       "      <td>50000057</td>\n",
       "      <td>5049</td>\n",
       "    </tr>\n",
       "    <tr>\n",
       "      <th>72</th>\n",
       "      <td>50010476</td>\n",
       "      <td>4523</td>\n",
       "    </tr>\n",
       "    <tr>\n",
       "      <th>...</th>\n",
       "      <td>...</td>\n",
       "      <td>...</td>\n",
       "    </tr>\n",
       "    <tr>\n",
       "      <th>84</th>\n",
       "      <td>50035298</td>\n",
       "      <td>0</td>\n",
       "    </tr>\n",
       "    <tr>\n",
       "      <th>74</th>\n",
       "      <td>50011483</td>\n",
       "      <td>0</td>\n",
       "    </tr>\n",
       "    <tr>\n",
       "      <th>55</th>\n",
       "      <td>50005807</td>\n",
       "      <td>0</td>\n",
       "    </tr>\n",
       "    <tr>\n",
       "      <th>54</th>\n",
       "      <td>50005575</td>\n",
       "      <td>0</td>\n",
       "    </tr>\n",
       "    <tr>\n",
       "      <th>0</th>\n",
       "      <td>12345</td>\n",
       "      <td>0</td>\n",
       "    </tr>\n",
       "  </tbody>\n",
       "</table>\n",
       "<p>157 rows × 2 columns</p>\n",
       "</div>"
      ],
      "text/plain": [
       "    sku_number  transaction_quantity\n",
       "122   50149711                  9511\n",
       "78    50014523                  8963\n",
       "42    50000242                  5734\n",
       "28    50000057                  5049\n",
       "72    50010476                  4523\n",
       "..         ...                   ...\n",
       "84    50035298                     0\n",
       "74    50011483                     0\n",
       "55    50005807                     0\n",
       "54    50005575                     0\n",
       "0        12345                     0\n",
       "\n",
       "[157 rows x 2 columns]"
      ]
     },
     "execution_count": 11,
     "metadata": {},
     "output_type": "execute_result"
    }
   ],
   "source": [
    "# Identify the most frequently damaged products with quantities\n",
    "total_quantity_damage = damaged_df.groupby('sku_number')['transaction_quantity'].sum().reset_index().sort_values(by='transaction_quantity', ascending=False)\n",
    "total_quantity_damage['sku_number'] = total_quantity_damage['sku_number'].astype(str)\n",
    "total_quantity_damage"
   ]
  },
  {
   "cell_type": "markdown",
   "id": "3ab60173",
   "metadata": {},
   "source": [
    "#### Employee Responsible for frequent damages with total quantity"
   ]
  },
  {
   "cell_type": "code",
   "execution_count": 12,
   "id": "d429f1a2",
   "metadata": {},
   "outputs": [
    {
     "data": {
      "text/html": [
       "<div>\n",
       "<style scoped>\n",
       "    .dataframe tbody tr th:only-of-type {\n",
       "        vertical-align: middle;\n",
       "    }\n",
       "\n",
       "    .dataframe tbody tr th {\n",
       "        vertical-align: top;\n",
       "    }\n",
       "\n",
       "    .dataframe thead th {\n",
       "        text-align: right;\n",
       "    }\n",
       "</style>\n",
       "<table border=\"1\" class=\"dataframe\">\n",
       "  <thead>\n",
       "    <tr style=\"text-align: right;\">\n",
       "      <th></th>\n",
       "      <th>employee_code</th>\n",
       "      <th>transaction_quantity</th>\n",
       "    </tr>\n",
       "  </thead>\n",
       "  <tbody>\n",
       "    <tr>\n",
       "      <th>5</th>\n",
       "      <td>MAXUSER5</td>\n",
       "      <td>10350</td>\n",
       "    </tr>\n",
       "    <tr>\n",
       "      <th>9</th>\n",
       "      <td>MAXUSER9</td>\n",
       "      <td>9576</td>\n",
       "    </tr>\n",
       "    <tr>\n",
       "      <th>1</th>\n",
       "      <td>Locale</td>\n",
       "      <td>8595</td>\n",
       "    </tr>\n",
       "    <tr>\n",
       "      <th>0</th>\n",
       "      <td>CHANDRA</td>\n",
       "      <td>7104</td>\n",
       "    </tr>\n",
       "    <tr>\n",
       "      <th>3</th>\n",
       "      <td>MAXUSER3</td>\n",
       "      <td>3669</td>\n",
       "    </tr>\n",
       "    <tr>\n",
       "      <th>6</th>\n",
       "      <td>MAXUSER6</td>\n",
       "      <td>2975</td>\n",
       "    </tr>\n",
       "    <tr>\n",
       "      <th>4</th>\n",
       "      <td>MAXUSER4</td>\n",
       "      <td>2651</td>\n",
       "    </tr>\n",
       "    <tr>\n",
       "      <th>2</th>\n",
       "      <td>MAXUSER2</td>\n",
       "      <td>2530</td>\n",
       "    </tr>\n",
       "    <tr>\n",
       "      <th>8</th>\n",
       "      <td>MAXUSER8</td>\n",
       "      <td>1898</td>\n",
       "    </tr>\n",
       "    <tr>\n",
       "      <th>7</th>\n",
       "      <td>MAXUSER7</td>\n",
       "      <td>1431</td>\n",
       "    </tr>\n",
       "  </tbody>\n",
       "</table>\n",
       "</div>"
      ],
      "text/plain": [
       "  employee_code  transaction_quantity\n",
       "5      MAXUSER5                 10350\n",
       "9      MAXUSER9                  9576\n",
       "1        Locale                  8595\n",
       "0       CHANDRA                  7104\n",
       "3      MAXUSER3                  3669\n",
       "6      MAXUSER6                  2975\n",
       "4      MAXUSER4                  2651\n",
       "2      MAXUSER2                  2530\n",
       "8      MAXUSER8                  1898\n",
       "7      MAXUSER7                  1431"
      ]
     },
     "execution_count": 12,
     "metadata": {},
     "output_type": "execute_result"
    }
   ],
   "source": [
    "# Identify the employees responsible for frequent damages with total quantity\n",
    "employee_quantity_damage = damaged_df.groupby('employee_code')['transaction_quantity'].sum().reset_index().sort_values(by='transaction_quantity', ascending=False)\n",
    "employee_quantity_damage"
   ]
  },
  {
   "cell_type": "markdown",
   "id": "9ebb82f5",
   "metadata": {},
   "source": [
    "#### Graphical representation of Employee Responsible for frequent damages with total quantity"
   ]
  },
  {
   "cell_type": "code",
   "execution_count": 13,
   "id": "01c7d8b7",
   "metadata": {},
   "outputs": [
    {
     "data": {
      "image/png": "[encoded data removed]",
      "text/plain": [
       "<Figure size 1000x600 with 1 Axes>"
      ]
     },
     "metadata": {},
     "output_type": "display_data"
    }
   ],
   "source": [
    "# Plot the employees responsible for frequent damages\n",
    "plt.figure(figsize=(10, 6))\n",
    "sns.barplot(x='employee_code', y='transaction_quantity', data = employee_quantity_damage)\n",
    "sns.set_theme(style=\"ticks\")\n",
    "plt.title('Total Damaged Products per Employee')\n",
    "plt.xlabel('Employee Code')\n",
    "plt.ylabel('Total Damaged Product Quantities')\n",
    "plt.xticks(rotation=45)\n",
    "plt.tight_layout()\n",
    "plt.show()"
   ]
  },
  {
   "cell_type": "markdown",
   "id": "b3b9930b",
   "metadata": {},
   "source": [
    "#### Equipment most oftenly used while product damages with total quantity"
   ]
  },
  {
   "cell_type": "code",
   "execution_count": 14,
   "id": "81625125",
   "metadata": {},
   "outputs": [
    {
     "data": {
      "text/html": [
       "<div>\n",
       "<style scoped>\n",
       "    .dataframe tbody tr th:only-of-type {\n",
       "        vertical-align: middle;\n",
       "    }\n",
       "\n",
       "    .dataframe tbody tr th {\n",
       "        vertical-align: top;\n",
       "    }\n",
       "\n",
       "    .dataframe thead th {\n",
       "        text-align: right;\n",
       "    }\n",
       "</style>\n",
       "<table border=\"1\" class=\"dataframe\">\n",
       "  <thead>\n",
       "    <tr style=\"text-align: right;\">\n",
       "      <th></th>\n",
       "      <th>end_location_id</th>\n",
       "      <th>transaction_quantity</th>\n",
       "    </tr>\n",
       "  </thead>\n",
       "  <tbody>\n",
       "    <tr>\n",
       "      <th>2</th>\n",
       "      <td>DS04</td>\n",
       "      <td>11862</td>\n",
       "    </tr>\n",
       "    <tr>\n",
       "      <th>6</th>\n",
       "      <td>DTI02</td>\n",
       "      <td>10287</td>\n",
       "    </tr>\n",
       "    <tr>\n",
       "      <th>4</th>\n",
       "      <td>DS06</td>\n",
       "      <td>6454</td>\n",
       "    </tr>\n",
       "    <tr>\n",
       "      <th>3</th>\n",
       "      <td>DS05</td>\n",
       "      <td>5314</td>\n",
       "    </tr>\n",
       "    <tr>\n",
       "      <th>0</th>\n",
       "      <td>DS01</td>\n",
       "      <td>4014</td>\n",
       "    </tr>\n",
       "    <tr>\n",
       "      <th>1</th>\n",
       "      <td>DS03</td>\n",
       "      <td>3748</td>\n",
       "    </tr>\n",
       "    <tr>\n",
       "      <th>13</th>\n",
       "      <td>VNA07</td>\n",
       "      <td>3065</td>\n",
       "    </tr>\n",
       "    <tr>\n",
       "      <th>5</th>\n",
       "      <td>DTI01</td>\n",
       "      <td>2828</td>\n",
       "    </tr>\n",
       "    <tr>\n",
       "      <th>12</th>\n",
       "      <td>VNA03</td>\n",
       "      <td>2822</td>\n",
       "    </tr>\n",
       "    <tr>\n",
       "      <th>8</th>\n",
       "      <td>GWPICK</td>\n",
       "      <td>239</td>\n",
       "    </tr>\n",
       "    <tr>\n",
       "      <th>10</th>\n",
       "      <td>GWPUT3</td>\n",
       "      <td>60</td>\n",
       "    </tr>\n",
       "    <tr>\n",
       "      <th>11</th>\n",
       "      <td>VNA01</td>\n",
       "      <td>39</td>\n",
       "    </tr>\n",
       "    <tr>\n",
       "      <th>9</th>\n",
       "      <td>GWPUT1</td>\n",
       "      <td>37</td>\n",
       "    </tr>\n",
       "    <tr>\n",
       "      <th>7</th>\n",
       "      <td>FK06</td>\n",
       "      <td>10</td>\n",
       "    </tr>\n",
       "  </tbody>\n",
       "</table>\n",
       "</div>"
      ],
      "text/plain": [
       "   end_location_id  transaction_quantity\n",
       "2             DS04                 11862\n",
       "6            DTI02                 10287\n",
       "4             DS06                  6454\n",
       "3             DS05                  5314\n",
       "0             DS01                  4014\n",
       "1             DS03                  3748\n",
       "13           VNA07                  3065\n",
       "5            DTI01                  2828\n",
       "12           VNA03                  2822\n",
       "8           GWPICK                   239\n",
       "10          GWPUT3                    60\n",
       "11           VNA01                    39\n",
       "9           GWPUT1                    37\n",
       "7             FK06                    10"
      ]
     },
     "execution_count": 14,
     "metadata": {},
     "output_type": "execute_result"
    }
   ],
   "source": [
    "# Identify which equipment is used most often when products quantities are damaged\n",
    "equipment_quantity_damage = damaged_df.groupby('end_location_id')['transaction_quantity'].sum().reset_index().sort_values(by='transaction_quantity', ascending=False)\n",
    "equipment_quantity_damage"
   ]
  },
  {
   "cell_type": "markdown",
   "id": "5fe67555",
   "metadata": {},
   "source": [
    "#### Graphical representation of Equipment most oftenly used while product damages with total quantity"
   ]
  },
  {
   "cell_type": "code",
   "execution_count": 15,
   "id": "40bbc1ce",
   "metadata": {},
   "outputs": [
    {
     "data": {
      "image/png": "[encoded data removed]",
      "text/plain": [
       "<Figure size 1000x600 with 1 Axes>"
      ]
     },
     "metadata": {},
     "output_type": "display_data"
    }
   ],
   "source": [
    "# Plot the equipment used most often when products are damaged\n",
    "plt.figure(figsize=(10, 6))\n",
    "sns.barplot(x='end_location_id', y='transaction_quantity', data=equipment_quantity_damage)\n",
    "sns.set_theme(style=\"ticks\")\n",
    "plt.title('Equipment Used Most Often During Damages')\n",
    "plt.xlabel('Equipment ID')\n",
    "plt.ylabel('Total Damaged Product Quantities')\n",
    "plt.xticks(rotation=45)\n",
    "plt.tight_layout()\n",
    "plt.show()"
   ]
  },
  {
   "cell_type": "markdown",
   "id": "d109ca06",
   "metadata": {},
   "source": [
    "#### Correlating the employee with equipment used during the product damages for total quantity"
   ]
  },
  {
   "cell_type": "code",
   "execution_count": 16,
   "id": "67191511",
   "metadata": {},
   "outputs": [
    {
     "data": {
      "text/html": [
       "<div>\n",
       "<style scoped>\n",
       "    .dataframe tbody tr th:only-of-type {\n",
       "        vertical-align: middle;\n",
       "    }\n",
       "\n",
       "    .dataframe tbody tr th {\n",
       "        vertical-align: top;\n",
       "    }\n",
       "\n",
       "    .dataframe thead th {\n",
       "        text-align: right;\n",
       "    }\n",
       "</style>\n",
       "<table border=\"1\" class=\"dataframe\">\n",
       "  <thead>\n",
       "    <tr style=\"text-align: right;\">\n",
       "      <th></th>\n",
       "      <th>employee_code</th>\n",
       "      <th>end_location_id</th>\n",
       "      <th>transaction_quantity</th>\n",
       "    </tr>\n",
       "  </thead>\n",
       "  <tbody>\n",
       "    <tr>\n",
       "      <th>59</th>\n",
       "      <td>MAXUSER5</td>\n",
       "      <td>DTI02</td>\n",
       "      <td>9604</td>\n",
       "    </tr>\n",
       "    <tr>\n",
       "      <th>91</th>\n",
       "      <td>MAXUSER9</td>\n",
       "      <td>DS04</td>\n",
       "      <td>8663</td>\n",
       "    </tr>\n",
       "    <tr>\n",
       "      <th>4</th>\n",
       "      <td>CHANDRA</td>\n",
       "      <td>DS06</td>\n",
       "      <td>5537</td>\n",
       "    </tr>\n",
       "    <tr>\n",
       "      <th>15</th>\n",
       "      <td>Locale</td>\n",
       "      <td>DS05</td>\n",
       "      <td>4725</td>\n",
       "    </tr>\n",
       "    <tr>\n",
       "      <th>35</th>\n",
       "      <td>MAXUSER3</td>\n",
       "      <td>DS04</td>\n",
       "      <td>2708</td>\n",
       "    </tr>\n",
       "    <tr>\n",
       "      <th>...</th>\n",
       "      <td>...</td>\n",
       "      <td>...</td>\n",
       "      <td>...</td>\n",
       "    </tr>\n",
       "    <tr>\n",
       "      <th>19</th>\n",
       "      <td>Locale</td>\n",
       "      <td>FK06</td>\n",
       "      <td>10</td>\n",
       "    </tr>\n",
       "    <tr>\n",
       "      <th>40</th>\n",
       "      <td>MAXUSER3</td>\n",
       "      <td>GWPUT3</td>\n",
       "      <td>10</td>\n",
       "    </tr>\n",
       "    <tr>\n",
       "      <th>66</th>\n",
       "      <td>MAXUSER6</td>\n",
       "      <td>DS06</td>\n",
       "      <td>9</td>\n",
       "    </tr>\n",
       "    <tr>\n",
       "      <th>6</th>\n",
       "      <td>CHANDRA</td>\n",
       "      <td>DTI02</td>\n",
       "      <td>3</td>\n",
       "    </tr>\n",
       "    <tr>\n",
       "      <th>77</th>\n",
       "      <td>MAXUSER7</td>\n",
       "      <td>VNA01</td>\n",
       "      <td>0</td>\n",
       "    </tr>\n",
       "  </tbody>\n",
       "</table>\n",
       "<p>98 rows × 3 columns</p>\n",
       "</div>"
      ],
      "text/plain": [
       "   employee_code end_location_id  transaction_quantity\n",
       "59      MAXUSER5           DTI02                  9604\n",
       "91      MAXUSER9            DS04                  8663\n",
       "4        CHANDRA            DS06                  5537\n",
       "15        Locale            DS05                  4725\n",
       "35      MAXUSER3            DS04                  2708\n",
       "..           ...             ...                   ...\n",
       "19        Locale            FK06                    10\n",
       "40      MAXUSER3          GWPUT3                    10\n",
       "66      MAXUSER6            DS06                     9\n",
       "6        CHANDRA           DTI02                     3\n",
       "77      MAXUSER7           VNA01                     0\n",
       "\n",
       "[98 rows x 3 columns]"
      ]
     },
     "execution_count": 16,
     "metadata": {},
     "output_type": "execute_result"
    }
   ],
   "source": [
    "# Correlate employee with the equipment used during these incidents for total quantity damage\n",
    "employee_equipment_damage = damaged_df.groupby(['employee_code', 'end_location_id'])['transaction_quantity'].sum().reset_index().sort_values(by='transaction_quantity', ascending=False)\n",
    "employee_equipment_damage"
   ]
  },
  {
   "cell_type": "code",
   "execution_count": 20,
   "id": "92ec9a1a",
   "metadata": {},
   "outputs": [
    {
     "name": "stdout",
     "output_type": "stream",
     "text": [
      "    sku_number  transaction_quantity\n",
      "122   50149711                  9511\n",
      "78    50014523                  8963\n",
      "42    50000242                  5734\n",
      "28    50000057                  5049\n",
      "72    50010476                  4523\n",
      "..         ...                   ...\n",
      "84    50035298                     0\n",
      "74    50011483                     0\n",
      "55    50005807                     0\n",
      "54    50005575                     0\n",
      "0        12345                     0\n",
      "\n",
      "[157 rows x 2 columns]\n",
      "  employee_code  transaction_quantity\n",
      "5      MAXUSER5                 10350\n",
      "9      MAXUSER9                  9576\n",
      "1        Locale                  8595\n",
      "0       CHANDRA                  7104\n",
      "3      MAXUSER3                  3669\n",
      "6      MAXUSER6                  2975\n",
      "4      MAXUSER4                  2651\n",
      "2      MAXUSER2                  2530\n",
      "8      MAXUSER8                  1898\n",
      "7      MAXUSER7                  1431\n",
      "   end_location_id  transaction_quantity\n",
      "2             DS04                 11862\n",
      "6            DTI02                 10287\n",
      "4             DS06                  6454\n",
      "3             DS05                  5314\n",
      "0             DS01                  4014\n",
      "1             DS03                  3748\n",
      "13           VNA07                  3065\n",
      "5            DTI01                  2828\n",
      "12           VNA03                  2822\n",
      "8           GWPICK                   239\n",
      "10          GWPUT3                    60\n",
      "11           VNA01                    39\n",
      "9           GWPUT1                    37\n",
      "7             FK06                    10\n",
      "   employee_code end_location_id  transaction_quantity\n",
      "59      MAXUSER5           DTI02                  9604\n",
      "91      MAXUSER9            DS04                  8663\n",
      "4        CHANDRA            DS06                  5537\n",
      "15        Locale            DS05                  4725\n",
      "35      MAXUSER3            DS04                  2708\n",
      "..           ...             ...                   ...\n",
      "19        Locale            FK06                    10\n",
      "40      MAXUSER3          GWPUT3                    10\n",
      "66      MAXUSER6            DS06                     9\n",
      "6        CHANDRA           DTI02                     3\n",
      "77      MAXUSER7           VNA01                     0\n",
      "\n",
      "[98 rows x 3 columns]\n"
     ]
    }
   ],
   "source": [
    "print(total_quantity_damage)\n",
    "print(employee_quantity_damage)\n",
    "print(equipment_quantity_damage)\n",
    "print(employee_equipment_damage)"
   ]
  },
  {
   "cell_type": "markdown",
   "id": "b8585581",
   "metadata": {},
   "source": [
    "#### Total count of product damages for the particular item number "
   ]
  },
  {
   "cell_type": "code",
   "execution_count": 81,
   "id": "e30bf931",
   "metadata": {},
   "outputs": [
    {
     "data": {
      "text/html": [
       "<div>\n",
       "<style scoped>\n",
       "    .dataframe tbody tr th:only-of-type {\n",
       "        vertical-align: middle;\n",
       "    }\n",
       "\n",
       "    .dataframe tbody tr th {\n",
       "        vertical-align: top;\n",
       "    }\n",
       "\n",
       "    .dataframe thead th {\n",
       "        text-align: right;\n",
       "    }\n",
       "</style>\n",
       "<table border=\"1\" class=\"dataframe\">\n",
       "  <thead>\n",
       "    <tr style=\"text-align: right;\">\n",
       "      <th></th>\n",
       "      <th>sku_number</th>\n",
       "      <th>damage_count</th>\n",
       "    </tr>\n",
       "  </thead>\n",
       "  <tbody>\n",
       "    <tr>\n",
       "      <th>28</th>\n",
       "      <td>50000057</td>\n",
       "      <td>49</td>\n",
       "    </tr>\n",
       "    <tr>\n",
       "      <th>81</th>\n",
       "      <td>50014535</td>\n",
       "      <td>34</td>\n",
       "    </tr>\n",
       "    <tr>\n",
       "      <th>69</th>\n",
       "      <td>50010236</td>\n",
       "      <td>18</td>\n",
       "    </tr>\n",
       "    <tr>\n",
       "      <th>39</th>\n",
       "      <td>50000185</td>\n",
       "      <td>17</td>\n",
       "    </tr>\n",
       "    <tr>\n",
       "      <th>94</th>\n",
       "      <td>50112173</td>\n",
       "      <td>15</td>\n",
       "    </tr>\n",
       "    <tr>\n",
       "      <th>...</th>\n",
       "      <td>...</td>\n",
       "      <td>...</td>\n",
       "    </tr>\n",
       "    <tr>\n",
       "      <th>54</th>\n",
       "      <td>50005575</td>\n",
       "      <td>1</td>\n",
       "    </tr>\n",
       "    <tr>\n",
       "      <th>53</th>\n",
       "      <td>50002835</td>\n",
       "      <td>1</td>\n",
       "    </tr>\n",
       "    <tr>\n",
       "      <th>50</th>\n",
       "      <td>50001709</td>\n",
       "      <td>1</td>\n",
       "    </tr>\n",
       "    <tr>\n",
       "      <th>49</th>\n",
       "      <td>50001708</td>\n",
       "      <td>1</td>\n",
       "    </tr>\n",
       "    <tr>\n",
       "      <th>156</th>\n",
       "      <td>testitem123</td>\n",
       "      <td>1</td>\n",
       "    </tr>\n",
       "  </tbody>\n",
       "</table>\n",
       "<p>157 rows × 2 columns</p>\n",
       "</div>"
      ],
      "text/plain": [
       "      sku_number  damage_count\n",
       "28      50000057            49\n",
       "81      50014535            34\n",
       "69      50010236            18\n",
       "39      50000185            17\n",
       "94      50112173            15\n",
       "..           ...           ...\n",
       "54      50005575             1\n",
       "53      50002835             1\n",
       "50      50001709             1\n",
       "49      50001708             1\n",
       "156  testitem123             1\n",
       "\n",
       "[157 rows x 2 columns]"
      ]
     },
     "execution_count": 81,
     "metadata": {},
     "output_type": "execute_result"
    }
   ],
   "source": [
    "# Count the number of times each SKU number is involved in damage\n",
    "product_damage_count = damaged_df.groupby('sku_number').size().reset_index(name='damage_count').sort_values(by='damage_count', ascending=False)\n",
    "\n",
    "product_damage_count"
   ]
  },
  {
   "cell_type": "markdown",
   "id": "1c4f768e",
   "metadata": {},
   "source": [
    "#### Count of number of times each employee involved in damage"
   ]
  },
  {
   "cell_type": "code",
   "execution_count": 82,
   "id": "910950ae",
   "metadata": {},
   "outputs": [
    {
     "data": {
      "text/html": [
       "<div>\n",
       "<style scoped>\n",
       "    .dataframe tbody tr th:only-of-type {\n",
       "        vertical-align: middle;\n",
       "    }\n",
       "\n",
       "    .dataframe tbody tr th {\n",
       "        vertical-align: top;\n",
       "    }\n",
       "\n",
       "    .dataframe thead th {\n",
       "        text-align: right;\n",
       "    }\n",
       "</style>\n",
       "<table border=\"1\" class=\"dataframe\">\n",
       "  <thead>\n",
       "    <tr style=\"text-align: right;\">\n",
       "      <th></th>\n",
       "      <th>employee_code</th>\n",
       "      <th>damage_count</th>\n",
       "    </tr>\n",
       "  </thead>\n",
       "  <tbody>\n",
       "    <tr>\n",
       "      <th>0</th>\n",
       "      <td>CHANDRA</td>\n",
       "      <td>72</td>\n",
       "    </tr>\n",
       "    <tr>\n",
       "      <th>1</th>\n",
       "      <td>Locale</td>\n",
       "      <td>51</td>\n",
       "    </tr>\n",
       "    <tr>\n",
       "      <th>4</th>\n",
       "      <td>MAXUSER4</td>\n",
       "      <td>49</td>\n",
       "    </tr>\n",
       "    <tr>\n",
       "      <th>5</th>\n",
       "      <td>MAXUSER5</td>\n",
       "      <td>47</td>\n",
       "    </tr>\n",
       "    <tr>\n",
       "      <th>2</th>\n",
       "      <td>MAXUSER2</td>\n",
       "      <td>44</td>\n",
       "    </tr>\n",
       "    <tr>\n",
       "      <th>9</th>\n",
       "      <td>MAXUSER9</td>\n",
       "      <td>44</td>\n",
       "    </tr>\n",
       "    <tr>\n",
       "      <th>8</th>\n",
       "      <td>MAXUSER8</td>\n",
       "      <td>40</td>\n",
       "    </tr>\n",
       "    <tr>\n",
       "      <th>6</th>\n",
       "      <td>MAXUSER6</td>\n",
       "      <td>39</td>\n",
       "    </tr>\n",
       "    <tr>\n",
       "      <th>3</th>\n",
       "      <td>MAXUSER3</td>\n",
       "      <td>38</td>\n",
       "    </tr>\n",
       "    <tr>\n",
       "      <th>7</th>\n",
       "      <td>MAXUSER7</td>\n",
       "      <td>36</td>\n",
       "    </tr>\n",
       "  </tbody>\n",
       "</table>\n",
       "</div>"
      ],
      "text/plain": [
       "  employee_code  damage_count\n",
       "0       CHANDRA            72\n",
       "1        Locale            51\n",
       "4      MAXUSER4            49\n",
       "5      MAXUSER5            47\n",
       "2      MAXUSER2            44\n",
       "9      MAXUSER9            44\n",
       "8      MAXUSER8            40\n",
       "6      MAXUSER6            39\n",
       "3      MAXUSER3            38\n",
       "7      MAXUSER7            36"
      ]
     },
     "execution_count": 82,
     "metadata": {},
     "output_type": "execute_result"
    }
   ],
   "source": [
    "# Count the number of times each employee is involved in damage\n",
    "employee_damage_count = damaged_df.groupby('employee_code').size().reset_index(name='damage_count').sort_values(by='damage_count', ascending=False)\n",
    "employee_damage_count"
   ]
  },
  {
   "cell_type": "markdown",
   "id": "25f67326",
   "metadata": {},
   "source": [
    "#### Count of number of times each equipment involved in damage"
   ]
  },
  {
   "cell_type": "code",
   "execution_count": 83,
   "id": "9ebaccf0",
   "metadata": {},
   "outputs": [
    {
     "data": {
      "text/html": [
       "<div>\n",
       "<style scoped>\n",
       "    .dataframe tbody tr th:only-of-type {\n",
       "        vertical-align: middle;\n",
       "    }\n",
       "\n",
       "    .dataframe tbody tr th {\n",
       "        vertical-align: top;\n",
       "    }\n",
       "\n",
       "    .dataframe thead th {\n",
       "        text-align: right;\n",
       "    }\n",
       "</style>\n",
       "<table border=\"1\" class=\"dataframe\">\n",
       "  <thead>\n",
       "    <tr style=\"text-align: right;\">\n",
       "      <th></th>\n",
       "      <th>end_location_id</th>\n",
       "      <th>damage_count</th>\n",
       "    </tr>\n",
       "  </thead>\n",
       "  <tbody>\n",
       "    <tr>\n",
       "      <th>6</th>\n",
       "      <td>DTI02</td>\n",
       "      <td>54</td>\n",
       "    </tr>\n",
       "    <tr>\n",
       "      <th>0</th>\n",
       "      <td>DS01</td>\n",
       "      <td>53</td>\n",
       "    </tr>\n",
       "    <tr>\n",
       "      <th>3</th>\n",
       "      <td>DS05</td>\n",
       "      <td>53</td>\n",
       "    </tr>\n",
       "    <tr>\n",
       "      <th>5</th>\n",
       "      <td>DTI01</td>\n",
       "      <td>53</td>\n",
       "    </tr>\n",
       "    <tr>\n",
       "      <th>1</th>\n",
       "      <td>DS03</td>\n",
       "      <td>51</td>\n",
       "    </tr>\n",
       "    <tr>\n",
       "      <th>2</th>\n",
       "      <td>DS04</td>\n",
       "      <td>51</td>\n",
       "    </tr>\n",
       "    <tr>\n",
       "      <th>12</th>\n",
       "      <td>VNA03</td>\n",
       "      <td>51</td>\n",
       "    </tr>\n",
       "    <tr>\n",
       "      <th>13</th>\n",
       "      <td>VNA07</td>\n",
       "      <td>50</td>\n",
       "    </tr>\n",
       "    <tr>\n",
       "      <th>4</th>\n",
       "      <td>DS06</td>\n",
       "      <td>29</td>\n",
       "    </tr>\n",
       "    <tr>\n",
       "      <th>8</th>\n",
       "      <td>GWPICK</td>\n",
       "      <td>5</td>\n",
       "    </tr>\n",
       "    <tr>\n",
       "      <th>11</th>\n",
       "      <td>VNA01</td>\n",
       "      <td>4</td>\n",
       "    </tr>\n",
       "    <tr>\n",
       "      <th>9</th>\n",
       "      <td>GWPUT1</td>\n",
       "      <td>3</td>\n",
       "    </tr>\n",
       "    <tr>\n",
       "      <th>10</th>\n",
       "      <td>GWPUT3</td>\n",
       "      <td>2</td>\n",
       "    </tr>\n",
       "    <tr>\n",
       "      <th>7</th>\n",
       "      <td>FK06</td>\n",
       "      <td>1</td>\n",
       "    </tr>\n",
       "  </tbody>\n",
       "</table>\n",
       "</div>"
      ],
      "text/plain": [
       "   end_location_id  damage_count\n",
       "6            DTI02            54\n",
       "0             DS01            53\n",
       "3             DS05            53\n",
       "5            DTI01            53\n",
       "1             DS03            51\n",
       "2             DS04            51\n",
       "12           VNA03            51\n",
       "13           VNA07            50\n",
       "4             DS06            29\n",
       "8           GWPICK             5\n",
       "11           VNA01             4\n",
       "9           GWPUT1             3\n",
       "10          GWPUT3             2\n",
       "7             FK06             1"
      ]
     },
     "execution_count": 83,
     "metadata": {},
     "output_type": "execute_result"
    }
   ],
   "source": [
    "# Count the number of times each equipment is involved in damage\n",
    "equipment_damage_count = damaged_df.groupby('end_location_id').size().reset_index(name='damage_count').sort_values(by='damage_count', ascending=False)\n",
    "equipment_damage_count"
   ]
  },
  {
   "cell_type": "markdown",
   "id": "a0a6820a",
   "metadata": {},
   "source": [
    "#### Count the number of times each employee, using specific equipment, is involved in damage"
   ]
  },
  {
   "cell_type": "code",
   "execution_count": 125,
   "id": "4ce85ac9",
   "metadata": {},
   "outputs": [
    {
     "data": {
      "text/html": [
       "<div>\n",
       "<style scoped>\n",
       "    .dataframe tbody tr th:only-of-type {\n",
       "        vertical-align: middle;\n",
       "    }\n",
       "\n",
       "    .dataframe tbody tr th {\n",
       "        vertical-align: top;\n",
       "    }\n",
       "\n",
       "    .dataframe thead th {\n",
       "        text-align: right;\n",
       "    }\n",
       "</style>\n",
       "<table border=\"1\" class=\"dataframe\">\n",
       "  <thead>\n",
       "    <tr style=\"text-align: right;\">\n",
       "      <th></th>\n",
       "      <th>employee_code</th>\n",
       "      <th>end_location_id</th>\n",
       "      <th>damage_count</th>\n",
       "    </tr>\n",
       "  </thead>\n",
       "  <tbody>\n",
       "    <tr>\n",
       "      <th>11</th>\n",
       "      <td>CHANDRA</td>\n",
       "      <td>VNA07</td>\n",
       "      <td>13</td>\n",
       "    </tr>\n",
       "    <tr>\n",
       "      <th>1</th>\n",
       "      <td>CHANDRA</td>\n",
       "      <td>DS03</td>\n",
       "      <td>11</td>\n",
       "    </tr>\n",
       "    <tr>\n",
       "      <th>48</th>\n",
       "      <td>MAXUSER4</td>\n",
       "      <td>DTI01</td>\n",
       "      <td>10</td>\n",
       "    </tr>\n",
       "    <tr>\n",
       "      <th>35</th>\n",
       "      <td>MAXUSER3</td>\n",
       "      <td>DS04</td>\n",
       "      <td>10</td>\n",
       "    </tr>\n",
       "    <tr>\n",
       "      <th>59</th>\n",
       "      <td>MAXUSER5</td>\n",
       "      <td>DTI02</td>\n",
       "      <td>10</td>\n",
       "    </tr>\n",
       "    <tr>\n",
       "      <th>...</th>\n",
       "      <td>...</td>\n",
       "      <td>...</td>\n",
       "      <td>...</td>\n",
       "    </tr>\n",
       "    <tr>\n",
       "      <th>36</th>\n",
       "      <td>MAXUSER3</td>\n",
       "      <td>DS06</td>\n",
       "      <td>1</td>\n",
       "    </tr>\n",
       "    <tr>\n",
       "      <th>20</th>\n",
       "      <td>Locale</td>\n",
       "      <td>GWPUT1</td>\n",
       "      <td>1</td>\n",
       "    </tr>\n",
       "    <tr>\n",
       "      <th>19</th>\n",
       "      <td>Locale</td>\n",
       "      <td>FK06</td>\n",
       "      <td>1</td>\n",
       "    </tr>\n",
       "    <tr>\n",
       "      <th>77</th>\n",
       "      <td>MAXUSER7</td>\n",
       "      <td>VNA01</td>\n",
       "      <td>1</td>\n",
       "    </tr>\n",
       "    <tr>\n",
       "      <th>72</th>\n",
       "      <td>MAXUSER7</td>\n",
       "      <td>DS03</td>\n",
       "      <td>1</td>\n",
       "    </tr>\n",
       "  </tbody>\n",
       "</table>\n",
       "<p>98 rows × 3 columns</p>\n",
       "</div>"
      ],
      "text/plain": [
       "   employee_code end_location_id  damage_count\n",
       "11       CHANDRA           VNA07            13\n",
       "1        CHANDRA            DS03            11\n",
       "48      MAXUSER4           DTI01            10\n",
       "35      MAXUSER3            DS04            10\n",
       "59      MAXUSER5           DTI02            10\n",
       "..           ...             ...           ...\n",
       "36      MAXUSER3            DS06             1\n",
       "20        Locale          GWPUT1             1\n",
       "19        Locale            FK06             1\n",
       "77      MAXUSER7           VNA01             1\n",
       "72      MAXUSER7            DS03             1\n",
       "\n",
       "[98 rows x 3 columns]"
      ]
     },
     "execution_count": 125,
     "metadata": {},
     "output_type": "execute_result"
    }
   ],
   "source": [
    "# Count the number of times each employee, using specific equipment, is involved in damage\n",
    "employee_equipment_damage_count = damaged_df.groupby(['employee_code', 'end_location_id']).size().reset_index(name='damage_count')\n",
    "employee_equipment_damage_count = employee_equipment_damage_count.sort_values(by='damage_count', ascending=False)\n",
    "\n",
    "# Display the results\n",
    "employee_equipment_damage_count"
   ]
  },
  {
   "cell_type": "code",
   "execution_count": 85,
   "id": "7ad317ba",
   "metadata": {},
   "outputs": [
    {
     "data": {
      "text/plain": [
       "(      sku_number  damage_count\n",
       " 28      50000057            49\n",
       " 81      50014535            34\n",
       " 69      50010236            18\n",
       " 39      50000185            17\n",
       " 94      50112173            15\n",
       " ..           ...           ...\n",
       " 54      50005575             1\n",
       " 53      50002835             1\n",
       " 50      50001709             1\n",
       " 49      50001708             1\n",
       " 156  testitem123             1\n",
       " \n",
       " [157 rows x 2 columns],\n",
       "   employee_code  damage_count\n",
       " 0       CHANDRA            72\n",
       " 1        Locale            51\n",
       " 4      MAXUSER4            49\n",
       " 5      MAXUSER5            47\n",
       " 2      MAXUSER2            44\n",
       " 9      MAXUSER9            44\n",
       " 8      MAXUSER8            40\n",
       " 6      MAXUSER6            39\n",
       " 3      MAXUSER3            38\n",
       " 7      MAXUSER7            36,\n",
       "    end_location_id  damage_count\n",
       " 6            DTI02            54\n",
       " 0             DS01            53\n",
       " 3             DS05            53\n",
       " 5            DTI01            53\n",
       " 1             DS03            51\n",
       " 2             DS04            51\n",
       " 12           VNA03            51\n",
       " 13           VNA07            50\n",
       " 4             DS06            29\n",
       " 8           GWPICK             5\n",
       " 11           VNA01             4\n",
       " 9           GWPUT1             3\n",
       " 10          GWPUT3             2\n",
       " 7             FK06             1,\n",
       "    employee_code end_location_id  damage_count\n",
       " 11       CHANDRA           VNA07            13\n",
       " 1        CHANDRA            DS03            11\n",
       " 48      MAXUSER4           DTI01            10\n",
       " 35      MAXUSER3            DS04            10\n",
       " 59      MAXUSER5           DTI02            10\n",
       " ..           ...             ...           ...\n",
       " 36      MAXUSER3            DS06             1\n",
       " 20        Locale          GWPUT1             1\n",
       " 19        Locale            FK06             1\n",
       " 77      MAXUSER7           VNA01             1\n",
       " 72      MAXUSER7            DS03             1\n",
       " \n",
       " [98 rows x 3 columns])"
      ]
     },
     "execution_count": 85,
     "metadata": {},
     "output_type": "execute_result"
    }
   ],
   "source": [
    "# Display the results\n",
    "product_damage_count, employee_damage_count, equipment_damage_count, employee_equipment_damage_count"
   ]
  },
  {
   "cell_type": "markdown",
   "id": "a41b9164",
   "metadata": {},
   "source": [
    "#### Plotting performance plot for each employee based on the damaged products "
   ]
  },
  {
   "cell_type": "code",
   "execution_count": 146,
   "id": "ea872680",
   "metadata": {},
   "outputs": [
    {
     "name": "stdout",
     "output_type": "stream",
     "text": [
      "  employee_code  total_transactions  damage_count    Rating\n",
      "0       CHANDRA                7104            72  1.013514\n",
      "1        Locale                8595            51  0.593368\n",
      "2      MAXUSER2                2530            44  1.739130\n",
      "3      MAXUSER3                3669            38  1.035705\n",
      "4      MAXUSER4                2651            49  1.848359\n",
      "5      MAXUSER5               10350            47  0.454106\n",
      "6      MAXUSER6                2975            39  1.310924\n",
      "7      MAXUSER7                1431            36  2.515723\n",
      "8      MAXUSER8                1898            40  2.107482\n",
      "9      MAXUSER9                9576            44  0.459482\n"
     ]
    },
    {
     "data": {
      "image/png": "[encoded data removed]",
      "text/plain": [
       "<Figure size 1200x600 with 1 Axes>"
      ]
     },
     "metadata": {},
     "output_type": "display_data"
    }
   ],
   "source": [
    "# Assuming the dataset has a 'total_transactions' column representing total transactions handled by each employee\n",
    "employee_performance = df.groupby('employee_code').agg(\n",
    "    total_transactions = ('transaction_quantity', 'sum'),\n",
    "    damage_count = ('transaction_quantity', lambda x: (df.loc[x.index, 'reason_id'] == 3).sum())\n",
    ").reset_index()\n",
    "\n",
    "# Calculate the damage rate per employee\n",
    "employee_performance['Rating'] = (employee_performance['damage_count'] / employee_performance['total_transactions']*100)\n",
    "print(employee_performance)\n",
    "\n",
    "# Plot employee performance\n",
    "plt.figure(figsize=(12, 6))\n",
    "sns.barplot(data=employee_performance, x='employee_code', y='Rating')\n",
    "sns.set_theme(style=\"ticks\",  palette=\"pastel\")\n",
    "plt.xlabel('Employee Code')\n",
    "plt.ylabel('Rating (%)')\n",
    "plt.title('Employee Performance Comparison')\n",
    "plt.xticks(rotation=45)\n",
    "plt.tight_layout()\n",
    "plt.show()\n"
   ]
  },
  {
   "cell_type": "markdown",
   "id": "2f02850b",
   "metadata": {},
   "source": [
    "#### plotting Graph for Total quantity of all products damaged in each warehouse."
   ]
  },
  {
   "cell_type": "code",
   "execution_count": 148,
   "id": "04576a58",
   "metadata": {},
   "outputs": [
    {
     "data": {
      "image/png": "[encoded data removed]",
      "text/plain": [
       "<Figure size 1000x600 with 1 Axes>"
      ]
     },
     "metadata": {},
     "output_type": "display_data"
    }
   ],
   "source": [
    "# Total damaged products per warehouse\n",
    "warehouse_summary = df.groupby('warehouse_id')['transaction_quantity'].sum().reset_index()\n",
    "plt.figure(figsize=(10, 6))\n",
    "sns.barplot(x='warehouse_id', y='transaction_quantity', data=warehouse_summary)\n",
    "sns.set_theme(style=\"ticks\",  palette=\"pastel\")\n",
    "plt.title('Total Damaged Products per Warehouse')\n",
    "plt.xlabel('Warehouse ID')\n",
    "plt.ylabel('Total Damaged Products')\n",
    "plt.tight_layout()\n",
    "plt.show()"
   ]
  },
  {
   "cell_type": "code",
   "execution_count": null,
   "id": "95155084",
   "metadata": {},
   "outputs": [],
   "source": []
  }
 ],
 "metadata": {
  "kernelspec": {
   "display_name": "Python 3 (ipykernel)",
   "language": "python",
   "name": "python3"
  },
  "language_info": {
   "codemirror_mode": {
    "name": "ipython",
    "version": 3
   },
   "file_extension": ".py",
   "mimetype": "text/x-python",
   "name": "python",
   "nbconvert_exporter": "python",
   "pygments_lexer": "ipython3",
   "version": "3.11.5"
  }
 },
 "nbformat": 4,
 "nbformat_minor": 5
}
